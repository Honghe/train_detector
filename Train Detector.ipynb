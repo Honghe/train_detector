{
 "cells": [
  {
   "cell_type": "markdown",
   "metadata": {},
   "source": [
    "# \"Fine tuning\" google's yamnet network to detect train sounds \n",
    "\n",
    "Accompanies the blog post here: \n",
    "\n",
    "This was a weekend project to track / quantify the train in my neighborhood that honks a lot. \n",
    "I eventually plan to correlate with my sleep patterns, but that's another day. \n",
    "\n",
    "As this was a short weekend project, no care has been take around clean code / bugs / proper validation dataset, etc.\n",
    "\n",
    "### Some background\n",
    "Google released yamnet: see https://github.com/tensorflow/models/tree/master/research/audioset/yamnet \n",
    "\"YAMNet is a pretrained deep net that predicts 521 audio event classes based on the AudioSet-YouTube corpus, and employing the Mobilenet_v1 depthwise-separable convolution architecture.\"\n",
    "\n",
    "The yamnet model does contain a 'train' and 'train horn' class, but found it was not accurate enough on my data. If your data is one of the 521 classes, you might be able to directly use the yamnet output and not train anything. \n",
    "\n",
    "\n",
    "This notebook takes the output feature vectors from yamnet as 1024 length vectors per patch of audio. We then feed those vectors into a small network that has been trained on the data I care about ( \"train horn\" vs \"not train horn\" ) \n",
    "\n",
    "I created a very small dataset of about 10 wavs per class -- where the \"not train horn\" class is just background noise, or noises that might be confused with a train horn ( dog bark, etc ) Each training sound is augmented a few times to create more data. \n",
    "\n",
    "Note: I did remove a few files from the data included here for file size reasons, but only 1-2 wav files. The accuracy here will be slightly lower than what I got. You can experiment with how much data is required for your task. \n"
   ]
  },
  {
   "cell_type": "code",
   "execution_count": 1,
   "metadata": {},
   "outputs": [
    {
     "name": "stdout",
     "output_type": "stream",
     "text": [
      "Populating the interactive namespace from numpy and matplotlib\n"
     ]
    }
   ],
   "source": [
    "%pylab inline"
   ]
  },
  {
   "cell_type": "code",
   "execution_count": 2,
   "metadata": {},
   "outputs": [],
   "source": [
    "import sys\n",
    "import os \n",
    "import random\n",
    "import matplotlib.pyplot as plt\n",
    "import glob\n",
    "from tqdm import tqdm"
   ]
  },
  {
   "cell_type": "code",
   "execution_count": 3,
   "metadata": {},
   "outputs": [],
   "source": [
    "# sound libs, you don't really need all of them \n",
    "# librosa should suffice \n",
    "import soundfile as sf\n",
    "import librosa\n",
    "import resampy"
   ]
  },
  {
   "cell_type": "markdown",
   "metadata": {},
   "source": [
    "## Clone the tf models repo \n",
    "\n",
    " * NOTE: Large ~1GB download "
   ]
  },
  {
   "cell_type": "code",
   "execution_count": 2,
   "metadata": {},
   "outputs": [
    {
     "name": "stdout",
     "output_type": "stream",
     "text": [
      "Cloning into 'models'...\n",
      "remote: Enumerating objects: 18, done.\u001b[K\n",
      "remote: Counting objects: 100% (18/18), done.\u001b[K\n",
      "remote: Compressing objects: 100% (18/18), done.\u001b[K\n",
      "^Cceiving objects:  22% (7842/34112), 124.39 MiB | 217.00 KiB/s   \n"
     ]
    }
   ],
   "source": [
    "!git clone https://github.com/tensorflow/models.git"
   ]
  },
  {
   "cell_type": "markdown",
   "metadata": {},
   "source": [
    "### Download the pre-trained weights for yamnet model"
   ]
  },
  {
   "cell_type": "code",
   "execution_count": 4,
   "metadata": {},
   "outputs": [
    {
     "name": "stdout",
     "output_type": "stream",
     "text": [
      "--2020-02-04 15:29:59--  https://storage.googleapis.com/audioset/yamnet.h5\n",
      "Resolving storage.googleapis.com... 216.58.194.144\n",
      "Connecting to storage.googleapis.com|216.58.194.144|:443... connected.\n",
      "HTTP request sent, awaiting response... 200 OK\n",
      "Length: 15296092 (15M) [application/octet-stream]\n",
      "Saving to: ‘yamnet.h5’\n",
      "\n",
      "yamnet.h5           100%[===================>]  14.59M  1.11MB/s    in 18s     \n",
      "\n",
      "2020-02-04 15:30:18 (814 KB/s) - ‘yamnet.h5’ saved [15296092/15296092]\n",
      "\n"
     ]
    }
   ],
   "source": [
    "\n",
    "!wget https://storage.googleapis.com/audioset/yamnet.h5"
   ]
  },
  {
   "cell_type": "code",
   "execution_count": 4,
   "metadata": {},
   "outputs": [],
   "source": [
    "## add yamnet to sys path \n",
    "yamnet_base = './models/research/audioset/yamnet/'\n",
    "sys.path.append(yamnet_base)"
   ]
  },
  {
   "cell_type": "code",
   "execution_count": 5,
   "metadata": {},
   "outputs": [],
   "source": [
    "## Yamnet imports \n",
    "import params\n",
    "import yamnet as yamnet_tf\n",
    "import modified_yamnet as yamnet\n",
    "\n",
    "\n",
    "import features as features_lib"
   ]
  },
  {
   "cell_type": "code",
   "execution_count": 6,
   "metadata": {},
   "outputs": [],
   "source": [
    "from tensorflow.keras import Model, layers\n",
    "from tensorflow.keras.optimizers import SGD, Adam\n",
    "from tensorflow.keras.callbacks import EarlyStopping\n",
    "\n",
    "import tensorflow as tf\n",
    "\n",
    "tf.compat.v1.logging.set_verbosity(tf.compat.v1.logging.ERROR)"
   ]
  },
  {
   "cell_type": "code",
   "execution_count": 7,
   "metadata": {},
   "outputs": [
    {
     "name": "stdout",
     "output_type": "stream",
     "text": [
      "tf version:  2.0.0\n",
      "tf.keras version:  2.2.4-tf\n"
     ]
    }
   ],
   "source": [
    "print(\"tf version: \", tf.__version__)\n",
    "print(\"tf.keras version: \", tf.keras.__version__)"
   ]
  },
  {
   "cell_type": "code",
   "execution_count": 9,
   "metadata": {},
   "outputs": [],
   "source": [
    "DESIRED_SR = 16000\n",
    "NUM_CLASSES = 2 # ( other, train)\n",
    "\n",
    "# Set up the YAMNet model.\n",
    "params.PATCH_HOP_SECONDS = 0.1  # 10 Hz scores frame rate.\n",
    "\n",
    "yamnet_model, dense_net = yamnet.yamnet_frames_model(params)\n",
    "\n",
    "yamnet_model.load_weights('yamnet.h5')\n",
    "\n",
    "class_names = yamnet_tf.class_names(os.path.join(yamnet_base, 'yamnet_class_map.csv'))"
   ]
  },
  {
   "cell_type": "markdown",
   "metadata": {},
   "source": [
    "## Some helper functions for later"
   ]
  },
  {
   "cell_type": "code",
   "execution_count": 10,
   "metadata": {},
   "outputs": [],
   "source": [
    "def read_wav(fname, output_sr, use_rosa=True):\n",
    "    # small wrapper - i was seeing some slightly different \n",
    "    # results when loading with different libraries \n",
    "    if use_rosa:\n",
    "        waveform, sr = librosa.load(fname, sr=output_sr)\n",
    "    else:\n",
    "        wav_data, sr = sf.read(fname, dtype=np.int16)\n",
    "        \n",
    "        if wav_data.ndim > 1: \n",
    "            # (ns, 2)\n",
    "            wav_data = wav_data.mean(1)\n",
    "        if sr != output_sr:\n",
    "            wav_data = resampy.resample(wav_data, sr, output_sr)\n",
    "        waveform = wav_data / 32768.0\n",
    "    \n",
    "    return waveform.astype(np.float64)\n"
   ]
  },
  {
   "cell_type": "code",
   "execution_count": 11,
   "metadata": {},
   "outputs": [],
   "source": [
    "def remove_silence(waveform, top_db=15, min_chunk_size=2000, merge_chunks=True):\n",
    "    # Loads sample into chunks of non-silence \n",
    "    \n",
    "    splits = librosa.effects.split(waveform, top_db=top_db)\n",
    "    \n",
    "    waves = []\n",
    "    for start, end in splits:\n",
    "        if (end-start) < min_chunk_size:\n",
    "            continue\n",
    "        waves.append(waveform[start:end])\n",
    "    \n",
    "    if merge_chunks:\n",
    "        out = None\n",
    "        for c in waves:\n",
    "            if out is None:\n",
    "                out = c.copy()\n",
    "            else:\n",
    "                out = np.concatenate((out, c))\n",
    "        waves = out\n",
    "    \n",
    "    return waves\n"
   ]
  },
  {
   "cell_type": "code",
   "execution_count": 12,
   "metadata": {},
   "outputs": [],
   "source": [
    "def get_top_dirs(p):\n",
    "    dirs = list(filter(lambda x : os.path.isdir( os.path.join(p, x) ), os.listdir(p)))\n",
    "    return list(map(lambda x : os.path.join(p, x), dirs))"
   ]
  },
  {
   "cell_type": "code",
   "execution_count": 13,
   "metadata": {},
   "outputs": [],
   "source": [
    "def random_augment_wav(wav_data):\n",
    "    # apply some random augmentations to the sound\n",
    "    # - time stretch, resample, volume change, minor noise \n",
    "    # - this has not been evaluated to measure contributions\n",
    "    # - TODO: probably a lot more augmentations you could use \n",
    "    \n",
    "    wav_data = wav_data.copy() \n",
    "    \n",
    "    # random re-sample \n",
    "    if np.random.uniform() > 0.8:\n",
    "        stretch = np.random.uniform(0.75, 1.5)\n",
    "        wav_data = librosa.effects.time_stretch(wav_data, stretch)\n",
    "    elif np.random.uniform() > 0.2:\n",
    "        new_sr = int(DESIRED_SR * np.random.uniform(0.9, 1.1))\n",
    "        wav_data = resampy.resample(wav_data, DESIRED_SR, new_sr)\n",
    "    \n",
    "    #librosa.effects.pitch_shift()\n",
    "    \n",
    "    # random volume\n",
    "    volume = np.random.uniform(0.65, 1.2)\n",
    "    wav_data = wav_data * volume\n",
    "    \n",
    "    # Random noise\n",
    "    if np.random.uniform() > 0.5:\n",
    "        NR = 0.001 # 0.1\n",
    "        wav_data += np.random.uniform(-NR, NR, size=wav_data.shape)\n",
    "    \n",
    "    return wav_data\n",
    "    \n",
    "    "
   ]
  },
  {
   "cell_type": "code",
   "execution_count": 14,
   "metadata": {},
   "outputs": [],
   "source": [
    "def load_data(base_path, \n",
    "              audio_model, \n",
    "              num_augmentations=5,\n",
    "              max_sample_seconds=5.0,\n",
    "              use_rosa=True):\n",
    "    \"\"\"\n",
    "    Loads data from .wav files contained in subfolders where \n",
    "    folder name is label, then runs them \n",
    "    through the audio_model to get feature vectors \n",
    "    and returns:\n",
    "    \n",
    "    X : [ np.array(1024) , ... ]\n",
    "    Y : [ category_idx , ...]\n",
    "    \n",
    "    \"\"\"\n",
    "    \n",
    "    label_dirs = get_top_dirs(base_path)\n",
    "    \n",
    "    _samples = []\n",
    "    _labels = []\n",
    "    \n",
    "    merge_chunks = True\n",
    "    MIN_WAV_SIZE = 5000 # TODO: seems to need to be pretty long for NN to work?\n",
    "    max_wav_size = int(DESIRED_SR * max_sample_seconds)\n",
    "    \n",
    "    for label_idx, label_dir in enumerate(label_dirs):\n",
    "        \n",
    "        label_name = os.path.basename(label_dir)\n",
    "        wavs = glob.glob(os.path.join(label_dir, \"*.wav\"))\n",
    "        print(\" Loading {:<5} '{:<40}'\".format(label_idx, label_name))\n",
    "        \n",
    "        for wav_file in tqdm(wavs):\n",
    "            \n",
    "            # rosa seems very different?\n",
    "            #for use_rosa in range(2):\n",
    "            if True:\n",
    "                #use_rosa = 1\n",
    "                #use_rosa = np.random.uniform() > 0.5\n",
    "                waveform = read_wav(wav_file, DESIRED_SR, use_rosa=use_rosa)\n",
    "\n",
    "                if label_name == 'train':\n",
    "                    waveform = remove_silence(waveform)\n",
    "\n",
    "                if len(waveform) < MIN_WAV_SIZE:\n",
    "                    continue \n",
    "\n",
    "                if len(waveform) > max_wav_size:\n",
    "                    waveform = waveform[:max_wav_size]\n",
    "\n",
    "                for aug_idx in range(1 + num_augmentations):\n",
    "                    \n",
    "                    aug_wav = waveform.copy()\n",
    "                    \n",
    "                    if aug_idx > 0:\n",
    "                        aug_wav = random_augment_wav(aug_wav)\n",
    "\n",
    "                    _, _, dense_out, _ = audio_model.predict(np.reshape(aug_wav, [1, -1]), steps=1)\n",
    "                    \n",
    "                    for patch in dense_out:\n",
    "                        _samples.append(patch)\n",
    "                        _labels.append(label_idx)\n",
    "                \n",
    "    return _samples, _labels\n",
    "    "
   ]
  },
  {
   "cell_type": "code",
   "execution_count": 15,
   "metadata": {},
   "outputs": [
    {
     "data": {
      "text/plain": [
       "Text(0.5, 1.0, 'Sample Train Sound')"
      ]
     },
     "execution_count": 15,
     "metadata": {},
     "output_type": "execute_result"
    },
    {
     "data": {
      "image/png": "[encoded data removed]",
      "text/plain": [
       "<Figure size 792x792 with 1 Axes>"
      ]
     },
     "metadata": {
      "needs_background": "light"
     },
     "output_type": "display_data"
    }
   ],
   "source": [
    "## Plot a wave file \n",
    "\n",
    "fname = \"training_data/train/train_15.wav\"\n",
    "\n",
    "waveform = read_wav(fname, DESIRED_SR, use_rosa=1)\n",
    "\n",
    "figure(figsize=(11,11))\n",
    "\n",
    "plot(waveform)\n",
    "title(\"Sample Train Sound\")\n"
   ]
  },
  {
   "cell_type": "markdown",
   "metadata": {},
   "source": [
    "### Plot Yamnet predictions on our data"
   ]
  },
  {
   "cell_type": "code",
   "execution_count": 16,
   "metadata": {},
   "outputs": [],
   "source": [
    "# Run the model.\n",
    "scores, spectrogram, dense_out, patches = yamnet_model.predict(np.reshape(waveform, [1, -1]), steps=1)"
   ]
  },
  {
   "cell_type": "code",
   "execution_count": 17,
   "metadata": {},
   "outputs": [
    {
     "data": {
      "image/png": "[encoded data removed]",
      "text/plain": [
       "<Figure size 720x576 with 3 Axes>"
      ]
     },
     "metadata": {
      "needs_background": "light"
     },
     "output_type": "display_data"
    }
   ],
   "source": [
    "# Visualize the results.\n",
    "plt.figure(figsize=(10, 8))\n",
    "\n",
    "# Plot the waveform.\n",
    "plt.subplot(3, 1, 1)\n",
    "plt.plot(waveform)\n",
    "plt.xlim([0, len(waveform)])\n",
    "# Plot the log-mel spectrogram (returned by the model).\n",
    "plt.subplot(3, 1, 2)\n",
    "plt.imshow(spectrogram.T, aspect='auto', interpolation='nearest', origin='bottom')\n",
    "\n",
    "# Plot and label the model output scores for the top-scoring classes.\n",
    "mean_scores = np.mean(scores, axis=0)\n",
    "top_N = 10\n",
    "top_class_indices = np.argsort(mean_scores)[::-1][:top_N]\n",
    "plt.subplot(3, 1, 3)\n",
    "plt.imshow(scores[:, top_class_indices].T, aspect='auto', interpolation='nearest', cmap='gray_r')\n",
    "# Compensate for the PATCH_WINDOW_SECONDS (0.96 s) context window to align with spectrogram.\n",
    "patch_padding = (params.PATCH_WINDOW_SECONDS / 2) / params.PATCH_HOP_SECONDS\n",
    "plt.xlim([-patch_padding, scores.shape[0] + patch_padding])\n",
    "# Label the top_N classes.\n",
    "yticks = range(0, top_N, 1)\n",
    "plt.yticks(yticks, [class_names[top_class_indices[x]] for x in yticks])\n",
    "_ = plt.ylim(-0.5 + np.array([top_N, 0]))\n",
    "\n",
    "plt.show()"
   ]
  },
  {
   "cell_type": "code",
   "execution_count": 18,
   "metadata": {},
   "outputs": [],
   "source": [
    "## Load our training data"
   ]
  },
  {
   "cell_type": "code",
   "execution_count": 19,
   "metadata": {},
   "outputs": [
    {
     "name": "stderr",
     "output_type": "stream",
     "text": [
      "\r",
      "  0%|          | 0/4 [00:00<?, ?it/s]"
     ]
    },
    {
     "name": "stdout",
     "output_type": "stream",
     "text": [
      " Loading 0     'not_train                               '\n"
     ]
    },
    {
     "name": "stderr",
     "output_type": "stream",
     "text": [
      "100%|██████████| 4/4 [00:05<00:00,  1.27s/it]\n",
      "  0%|          | 0/7 [00:00<?, ?it/s]"
     ]
    },
    {
     "name": "stdout",
     "output_type": "stream",
     "text": [
      " Loading 1     'train                                   '\n"
     ]
    },
    {
     "name": "stderr",
     "output_type": "stream",
     "text": [
      "100%|██████████| 7/7 [00:04<00:00,  1.45it/s]\n"
     ]
    }
   ],
   "source": [
    "samples, labels = load_data(\"training_data\",\n",
    "                            yamnet_model,\n",
    "                            num_augmentations=4, \n",
    "                            max_sample_seconds=10.0)\n"
   ]
  },
  {
   "cell_type": "code",
   "execution_count": 20,
   "metadata": {},
   "outputs": [
    {
     "name": "stdout",
     "output_type": "stream",
     "text": [
      " Loaded samples:  (1381, 1024) float32 (1381,)\n"
     ]
    }
   ],
   "source": [
    "idxs = list(range(len(labels)))\n",
    "random.shuffle(idxs)\n",
    "\n",
    "samples = [samples[i] for i in idxs]\n",
    "labels = [labels[i] for i in idxs]\n",
    "\n",
    "samples = np.array(samples)\n",
    "labels = np.array(labels)\n",
    "\n",
    "print(\" Loaded samples: \" , samples.shape, samples.dtype,  labels.shape)\n"
   ]
  },
  {
   "cell_type": "markdown",
   "metadata": {},
   "source": [
    "## Create our 'fine tuning' thin model that accepts yamnet feature vector outputs \n",
    "\n",
    "You can play with how many layers, or which activation functions to use, etc"
   ]
  },
  {
   "cell_type": "code",
   "execution_count": 21,
   "metadata": {},
   "outputs": [],
   "source": [
    "def get_top_model(num_classes=3, \n",
    "                  input_size=1024,\n",
    "                  num_hidden=1024):\n",
    "\n",
    "    input_layer = layers.Input(shape=(input_size,))\n",
    "    \n",
    "    output = layers.Dense(num_hidden, activation=None)(input_layer)\n",
    "    \n",
    "    output = layers.Dense(num_classes, activation='softmax')(output)\n",
    "    \n",
    "    model = Model(inputs=input_layer, outputs=output)\n",
    "    \n",
    "    return model\n"
   ]
  },
  {
   "cell_type": "code",
   "execution_count": 22,
   "metadata": {},
   "outputs": [],
   "source": [
    "es = EarlyStopping(monitor='val_loss', mode='min', verbose=1)\n"
   ]
  },
  {
   "cell_type": "code",
   "execution_count": 23,
   "metadata": {},
   "outputs": [],
   "source": [
    "num_hidden = 1024\n",
    "feature_len = 1024\n",
    "\n",
    "model = get_top_model(num_classes=NUM_CLASSES, \n",
    "                      input_size=feature_len, \n",
    "                      num_hidden=num_hidden)\n",
    "\n",
    "#opt = Adam(learning_rate=0.001)\n",
    "opt = SGD(lr=0.001, decay=1e-6, momentum=0.9, nesterov=True)\n",
    "\n",
    "model.compile(optimizer=opt, loss='sparse_categorical_crossentropy', metrics=['accuracy'])\n"
   ]
  },
  {
   "cell_type": "code",
   "execution_count": 24,
   "metadata": {},
   "outputs": [
    {
     "name": "stdout",
     "output_type": "stream",
     "text": [
      "Train on 1211 samples, validate on 170 samples\n",
      "Epoch 1/200\n",
      "1211/1211 [==============================] - 1s 568us/sample - loss: 0.1988 - accuracy: 0.9315 - val_loss: 0.0385 - val_accuracy: 1.0000\n",
      "Epoch 2/200\n",
      "1211/1211 [==============================] - 0s 131us/sample - loss: 0.0305 - accuracy: 0.9983 - val_loss: 0.0234 - val_accuracy: 1.0000\n",
      "Epoch 3/200\n",
      "1211/1211 [==============================] - 0s 191us/sample - loss: 0.0207 - accuracy: 1.0000 - val_loss: 0.0178 - val_accuracy: 1.0000\n",
      "Epoch 4/200\n",
      "1211/1211 [==============================] - 0s 162us/sample - loss: 0.0162 - accuracy: 1.0000 - val_loss: 0.0144 - val_accuracy: 1.0000\n",
      "Epoch 5/200\n",
      "1211/1211 [==============================] - 0s 153us/sample - loss: 0.0132 - accuracy: 1.0000 - val_loss: 0.0123 - val_accuracy: 1.0000\n",
      "Epoch 6/200\n",
      "1211/1211 [==============================] - 0s 180us/sample - loss: 0.0113 - accuracy: 1.0000 - val_loss: 0.0106 - val_accuracy: 1.0000\n",
      "Epoch 7/200\n",
      "1211/1211 [==============================] - 0s 134us/sample - loss: 0.0098 - accuracy: 1.0000 - val_loss: 0.0095 - val_accuracy: 1.0000\n",
      "Epoch 8/200\n",
      "1211/1211 [==============================] - 0s 129us/sample - loss: 0.0087 - accuracy: 1.0000 - val_loss: 0.0085 - val_accuracy: 1.0000\n",
      "Epoch 9/200\n",
      "1211/1211 [==============================] - 0s 178us/sample - loss: 0.0078 - accuracy: 1.0000 - val_loss: 0.0078 - val_accuracy: 1.0000\n",
      "Epoch 10/200\n",
      "1211/1211 [==============================] - 0s 162us/sample - loss: 0.0071 - accuracy: 1.0000 - val_loss: 0.0072 - val_accuracy: 1.0000\n",
      "Epoch 11/200\n",
      "1211/1211 [==============================] - 0s 185us/sample - loss: 0.0065 - accuracy: 1.0000 - val_loss: 0.0066 - val_accuracy: 1.0000\n",
      "Epoch 12/200\n",
      "1211/1211 [==============================] - 0s 128us/sample - loss: 0.0060 - accuracy: 1.0000 - val_loss: 0.0062 - val_accuracy: 1.0000\n",
      "Epoch 13/200\n",
      "1211/1211 [==============================] - 0s 138us/sample - loss: 0.0056 - accuracy: 1.0000 - val_loss: 0.0058 - val_accuracy: 1.0000\n",
      "Epoch 14/200\n",
      "1211/1211 [==============================] - 0s 179us/sample - loss: 0.0052 - accuracy: 1.0000 - val_loss: 0.0055 - val_accuracy: 1.0000\n",
      "Epoch 15/200\n",
      "1211/1211 [==============================] - 0s 142us/sample - loss: 0.0049 - accuracy: 1.0000 - val_loss: 0.0052 - val_accuracy: 1.0000\n",
      "Epoch 16/200\n",
      "1211/1211 [==============================] - 0s 157us/sample - loss: 0.0046 - accuracy: 1.0000 - val_loss: 0.0049 - val_accuracy: 1.0000\n",
      "Epoch 17/200\n",
      "1211/1211 [==============================] - 0s 181us/sample - loss: 0.0043 - accuracy: 1.0000 - val_loss: 0.0047 - val_accuracy: 1.0000\n",
      "Epoch 18/200\n",
      "1211/1211 [==============================] - 0s 135us/sample - loss: 0.0041 - accuracy: 1.0000 - val_loss: 0.0045 - val_accuracy: 1.0000\n",
      "Epoch 19/200\n",
      "1211/1211 [==============================] - 0s 121us/sample - loss: 0.0039 - accuracy: 1.0000 - val_loss: 0.0043 - val_accuracy: 1.0000\n",
      "Epoch 20/200\n",
      "1211/1211 [==============================] - 0s 165us/sample - loss: 0.0037 - accuracy: 1.0000 - val_loss: 0.0041 - val_accuracy: 1.0000\n",
      "Epoch 21/200\n",
      "1211/1211 [==============================] - 0s 138us/sample - loss: 0.0036 - accuracy: 1.0000 - val_loss: 0.0040 - val_accuracy: 1.0000\n",
      "Epoch 22/200\n",
      "1211/1211 [==============================] - 0s 176us/sample - loss: 0.0034 - accuracy: 1.0000 - val_loss: 0.0038 - val_accuracy: 1.0000\n",
      "Epoch 23/200\n",
      "1211/1211 [==============================] - 0s 133us/sample - loss: 0.0033 - accuracy: 1.0000 - val_loss: 0.0037 - val_accuracy: 1.0000\n",
      "Epoch 24/200\n",
      "1211/1211 [==============================] - 0s 151us/sample - loss: 0.0031 - accuracy: 1.0000 - val_loss: 0.0036 - val_accuracy: 1.0000\n",
      "Epoch 25/200\n",
      "1211/1211 [==============================] - 0s 181us/sample - loss: 0.0030 - accuracy: 1.0000 - val_loss: 0.0034 - val_accuracy: 1.0000\n",
      "Epoch 26/200\n",
      "1211/1211 [==============================] - 0s 135us/sample - loss: 0.0029 - accuracy: 1.0000 - val_loss: 0.0033 - val_accuracy: 1.0000\n",
      "Epoch 27/200\n",
      "1211/1211 [==============================] - 0s 139us/sample - loss: 0.0028 - accuracy: 1.0000 - val_loss: 0.0032 - val_accuracy: 1.0000\n",
      "Epoch 28/200\n",
      "1211/1211 [==============================] - 0s 180us/sample - loss: 0.0027 - accuracy: 1.0000 - val_loss: 0.0031 - val_accuracy: 1.0000\n",
      "Epoch 29/200\n",
      "1211/1211 [==============================] - 0s 131us/sample - loss: 0.0026 - accuracy: 1.0000 - val_loss: 0.0031 - val_accuracy: 1.0000\n",
      "Epoch 30/200\n",
      "1211/1211 [==============================] - 0s 133us/sample - loss: 0.0025 - accuracy: 1.0000 - val_loss: 0.0030 - val_accuracy: 1.0000\n",
      "Epoch 31/200\n",
      "1211/1211 [==============================] - 0s 167us/sample - loss: 0.0024 - accuracy: 1.0000 - val_loss: 0.0029 - val_accuracy: 1.0000\n",
      "Epoch 32/200\n",
      "1211/1211 [==============================] - 0s 133us/sample - loss: 0.0024 - accuracy: 1.0000 - val_loss: 0.0028 - val_accuracy: 1.0000\n",
      "Epoch 33/200\n",
      "1211/1211 [==============================] - 0s 136us/sample - loss: 0.0023 - accuracy: 1.0000 - val_loss: 0.0028 - val_accuracy: 1.0000\n",
      "Epoch 34/200\n",
      "1211/1211 [==============================] - 0s 147us/sample - loss: 0.0022 - accuracy: 1.0000 - val_loss: 0.0027 - val_accuracy: 1.0000\n",
      "Epoch 35/200\n",
      "1211/1211 [==============================] - 0s 122us/sample - loss: 0.0022 - accuracy: 1.0000 - val_loss: 0.0026 - val_accuracy: 1.0000\n",
      "Epoch 36/200\n",
      "1211/1211 [==============================] - 0s 128us/sample - loss: 0.0021 - accuracy: 1.0000 - val_loss: 0.0026 - val_accuracy: 1.0000\n",
      "Epoch 37/200\n",
      "1211/1211 [==============================] - 0s 161us/sample - loss: 0.0021 - accuracy: 1.0000 - val_loss: 0.0025 - val_accuracy: 1.0000\n",
      "Epoch 38/200\n",
      "1211/1211 [==============================] - 0s 117us/sample - loss: 0.0020 - accuracy: 1.0000 - val_loss: 0.0025 - val_accuracy: 1.0000\n",
      "Epoch 39/200\n",
      "1211/1211 [==============================] - 0s 112us/sample - loss: 0.0020 - accuracy: 1.0000 - val_loss: 0.0024 - val_accuracy: 1.0000\n",
      "Epoch 40/200\n",
      "1211/1211 [==============================] - 0s 154us/sample - loss: 0.0019 - accuracy: 1.0000 - val_loss: 0.0024 - val_accuracy: 1.0000\n",
      "Epoch 41/200\n",
      "1211/1211 [==============================] - 0s 158us/sample - loss: 0.0019 - accuracy: 1.0000 - val_loss: 0.0023 - val_accuracy: 1.0000\n",
      "Epoch 42/200\n",
      "1211/1211 [==============================] - 0s 132us/sample - loss: 0.0018 - accuracy: 1.0000 - val_loss: 0.0023 - val_accuracy: 1.0000\n",
      "Epoch 43/200\n",
      "1211/1211 [==============================] - 0s 148us/sample - loss: 0.0018 - accuracy: 1.0000 - val_loss: 0.0022 - val_accuracy: 1.0000\n",
      "Epoch 44/200\n",
      "1211/1211 [==============================] - 0s 128us/sample - loss: 0.0017 - accuracy: 1.0000 - val_loss: 0.0022 - val_accuracy: 1.0000\n",
      "Epoch 45/200\n",
      "1211/1211 [==============================] - 0s 122us/sample - loss: 0.0017 - accuracy: 1.0000 - val_loss: 0.0022 - val_accuracy: 1.0000\n",
      "Epoch 46/200\n",
      "1211/1211 [==============================] - 0s 148us/sample - loss: 0.0017 - accuracy: 1.0000 - val_loss: 0.0021 - val_accuracy: 1.0000\n",
      "Epoch 47/200\n",
      "1211/1211 [==============================] - 0s 115us/sample - loss: 0.0016 - accuracy: 1.0000 - val_loss: 0.0021 - val_accuracy: 1.0000\n",
      "Epoch 48/200\n",
      "1211/1211 [==============================] - 0s 119us/sample - loss: 0.0016 - accuracy: 1.0000 - val_loss: 0.0021 - val_accuracy: 1.0000\n",
      "Epoch 49/200\n",
      "1211/1211 [==============================] - 0s 150us/sample - loss: 0.0016 - accuracy: 1.0000 - val_loss: 0.0020 - val_accuracy: 1.0000\n",
      "Epoch 50/200\n",
      "1211/1211 [==============================] - 0s 121us/sample - loss: 0.0015 - accuracy: 1.0000 - val_loss: 0.0020 - val_accuracy: 1.0000\n",
      "Epoch 51/200\n",
      "1211/1211 [==============================] - 0s 128us/sample - loss: 0.0015 - accuracy: 1.0000 - val_loss: 0.0020 - val_accuracy: 1.0000\n",
      "Epoch 52/200\n",
      "1211/1211 [==============================] - 0s 142us/sample - loss: 0.0015 - accuracy: 1.0000 - val_loss: 0.0019 - val_accuracy: 1.0000\n",
      "Epoch 53/200\n",
      "1211/1211 [==============================] - 0s 134us/sample - loss: 0.0014 - accuracy: 1.0000 - val_loss: 0.0019 - val_accuracy: 1.0000\n",
      "Epoch 54/200\n",
      "1211/1211 [==============================] - 0s 121us/sample - loss: 0.0014 - accuracy: 1.0000 - val_loss: 0.0019 - val_accuracy: 1.0000\n",
      "Epoch 55/200\n"
     ]
    },
    {
     "name": "stdout",
     "output_type": "stream",
     "text": [
      "1211/1211 [==============================] - 0s 132us/sample - loss: 0.0014 - accuracy: 1.0000 - val_loss: 0.0018 - val_accuracy: 1.0000\n",
      "Epoch 56/200\n",
      "1211/1211 [==============================] - 0s 185us/sample - loss: 0.0014 - accuracy: 1.0000 - val_loss: 0.0018 - val_accuracy: 1.0000\n",
      "Epoch 57/200\n",
      "1211/1211 [==============================] - 0s 139us/sample - loss: 0.0013 - accuracy: 1.0000 - val_loss: 0.0018 - val_accuracy: 1.0000\n",
      "Epoch 58/200\n",
      "1211/1211 [==============================] - 0s 179us/sample - loss: 0.0013 - accuracy: 1.0000 - val_loss: 0.0018 - val_accuracy: 1.0000\n",
      "Epoch 59/200\n",
      "1211/1211 [==============================] - 0s 131us/sample - loss: 0.0013 - accuracy: 1.0000 - val_loss: 0.0017 - val_accuracy: 1.0000\n",
      "Epoch 60/200\n",
      "1211/1211 [==============================] - 0s 126us/sample - loss: 0.0013 - accuracy: 1.0000 - val_loss: 0.0017 - val_accuracy: 1.0000\n",
      "Epoch 61/200\n",
      "1211/1211 [==============================] - 0s 191us/sample - loss: 0.0013 - accuracy: 1.0000 - val_loss: 0.0017 - val_accuracy: 1.0000\n",
      "Epoch 62/200\n",
      "1211/1211 [==============================] - 0s 131us/sample - loss: 0.0012 - accuracy: 1.0000 - val_loss: 0.0017 - val_accuracy: 1.0000\n",
      "Epoch 63/200\n",
      "1211/1211 [==============================] - 0s 118us/sample - loss: 0.0012 - accuracy: 1.0000 - val_loss: 0.0017 - val_accuracy: 1.0000\n",
      "Epoch 64/200\n",
      "1211/1211 [==============================] - 0s 152us/sample - loss: 0.0012 - accuracy: 1.0000 - val_loss: 0.0016 - val_accuracy: 1.0000\n",
      "Epoch 65/200\n",
      "1211/1211 [==============================] - 0s 125us/sample - loss: 0.0012 - accuracy: 1.0000 - val_loss: 0.0016 - val_accuracy: 1.0000\n",
      "Epoch 66/200\n",
      "1211/1211 [==============================] - 0s 127us/sample - loss: 0.0012 - accuracy: 1.0000 - val_loss: 0.0016 - val_accuracy: 1.0000\n",
      "Epoch 67/200\n",
      "1211/1211 [==============================] - 0s 165us/sample - loss: 0.0011 - accuracy: 1.0000 - val_loss: 0.0016 - val_accuracy: 1.0000\n",
      "Epoch 68/200\n",
      "1211/1211 [==============================] - 0s 128us/sample - loss: 0.0011 - accuracy: 1.0000 - val_loss: 0.0016 - val_accuracy: 1.0000\n",
      "Epoch 69/200\n",
      "1211/1211 [==============================] - 0s 129us/sample - loss: 0.0011 - accuracy: 1.0000 - val_loss: 0.0015 - val_accuracy: 1.0000\n",
      "Epoch 70/200\n",
      "1211/1211 [==============================] - 0s 123us/sample - loss: 0.0011 - accuracy: 1.0000 - val_loss: 0.0015 - val_accuracy: 1.0000\n",
      "Epoch 71/200\n",
      "1211/1211 [==============================] - 0s 153us/sample - loss: 0.0011 - accuracy: 1.0000 - val_loss: 0.0015 - val_accuracy: 1.0000\n",
      "Epoch 72/200\n",
      "1211/1211 [==============================] - 0s 130us/sample - loss: 0.0011 - accuracy: 1.0000 - val_loss: 0.0015 - val_accuracy: 1.0000\n",
      "Epoch 73/200\n",
      "1211/1211 [==============================] - 0s 142us/sample - loss: 0.0010 - accuracy: 1.0000 - val_loss: 0.0015 - val_accuracy: 1.0000\n",
      "Epoch 74/200\n",
      "1211/1211 [==============================] - 0s 131us/sample - loss: 0.0010 - accuracy: 1.0000 - val_loss: 0.0015 - val_accuracy: 1.0000\n",
      "Epoch 75/200\n",
      "1211/1211 [==============================] - 0s 143us/sample - loss: 0.0010 - accuracy: 1.0000 - val_loss: 0.0015 - val_accuracy: 1.0000\n",
      "Epoch 76/200\n",
      "1211/1211 [==============================] - 0s 156us/sample - loss: 0.0010 - accuracy: 1.0000 - val_loss: 0.0014 - val_accuracy: 1.0000\n",
      "Epoch 77/200\n",
      "1211/1211 [==============================] - 0s 133us/sample - loss: 9.9160e-04 - accuracy: 1.0000 - val_loss: 0.0014 - val_accuracy: 1.0000\n",
      "Epoch 78/200\n",
      "1211/1211 [==============================] - 0s 132us/sample - loss: 9.7921e-04 - accuracy: 1.0000 - val_loss: 0.0014 - val_accuracy: 1.0000\n",
      "Epoch 79/200\n",
      "1211/1211 [==============================] - 0s 148us/sample - loss: 9.6675e-04 - accuracy: 1.0000 - val_loss: 0.0014 - val_accuracy: 1.0000\n",
      "Epoch 80/200\n",
      "1211/1211 [==============================] - 0s 141us/sample - loss: 9.5407e-04 - accuracy: 1.0000 - val_loss: 0.0014 - val_accuracy: 1.0000\n",
      "Epoch 81/200\n",
      "1211/1211 [==============================] - 0s 135us/sample - loss: 9.4255e-04 - accuracy: 1.0000 - val_loss: 0.0014 - val_accuracy: 1.0000\n",
      "Epoch 82/200\n",
      "1211/1211 [==============================] - 0s 136us/sample - loss: 9.3083e-04 - accuracy: 1.0000 - val_loss: 0.0014 - val_accuracy: 1.0000\n",
      "Epoch 83/200\n",
      "1211/1211 [==============================] - 0s 172us/sample - loss: 9.1989e-04 - accuracy: 1.0000 - val_loss: 0.0013 - val_accuracy: 1.0000\n",
      "Epoch 84/200\n",
      "1211/1211 [==============================] - 0s 155us/sample - loss: 9.0831e-04 - accuracy: 1.0000 - val_loss: 0.0013 - val_accuracy: 1.0000\n",
      "Epoch 85/200\n",
      "1211/1211 [==============================] - 0s 169us/sample - loss: 8.9780e-04 - accuracy: 1.0000 - val_loss: 0.0013 - val_accuracy: 1.0000\n",
      "Epoch 86/200\n",
      "1211/1211 [==============================] - 0s 137us/sample - loss: 8.8705e-04 - accuracy: 1.0000 - val_loss: 0.0013 - val_accuracy: 1.0000\n",
      "Epoch 87/200\n",
      "1211/1211 [==============================] - 0s 128us/sample - loss: 8.7677e-04 - accuracy: 1.0000 - val_loss: 0.0013 - val_accuracy: 1.0000\n",
      "Epoch 88/200\n",
      "1211/1211 [==============================] - 0s 169us/sample - loss: 8.6676e-04 - accuracy: 1.0000 - val_loss: 0.0013 - val_accuracy: 1.0000\n",
      "Epoch 89/200\n",
      "1211/1211 [==============================] - 0s 133us/sample - loss: 8.5694e-04 - accuracy: 1.0000 - val_loss: 0.0013 - val_accuracy: 1.0000\n",
      "Epoch 90/200\n",
      "1211/1211 [==============================] - 0s 130us/sample - loss: 8.4705e-04 - accuracy: 1.0000 - val_loss: 0.0013 - val_accuracy: 1.0000\n",
      "Epoch 91/200\n",
      "1211/1211 [==============================] - 0s 165us/sample - loss: 8.3781e-04 - accuracy: 1.0000 - val_loss: 0.0013 - val_accuracy: 1.0000\n",
      "Epoch 92/200\n",
      "1211/1211 [==============================] - 0s 122us/sample - loss: 8.2868e-04 - accuracy: 1.0000 - val_loss: 0.0012 - val_accuracy: 1.0000\n",
      "Epoch 93/200\n",
      "1211/1211 [==============================] - 0s 118us/sample - loss: 8.1958e-04 - accuracy: 1.0000 - val_loss: 0.0012 - val_accuracy: 1.0000\n",
      "Epoch 94/200\n",
      "1211/1211 [==============================] - 0s 208us/sample - loss: 8.1063e-04 - accuracy: 1.0000 - val_loss: 0.0012 - val_accuracy: 1.0000\n",
      "Epoch 95/200\n",
      "1211/1211 [==============================] - 0s 156us/sample - loss: 8.0208e-04 - accuracy: 1.0000 - val_loss: 0.0012 - val_accuracy: 1.0000\n",
      "Epoch 96/200\n",
      "1211/1211 [==============================] - 0s 151us/sample - loss: 7.9361e-04 - accuracy: 1.0000 - val_loss: 0.0012 - val_accuracy: 1.0000\n",
      "Epoch 97/200\n",
      "1211/1211 [==============================] - 0s 135us/sample - loss: 7.8533e-04 - accuracy: 1.0000 - val_loss: 0.0012 - val_accuracy: 1.0000\n",
      "Epoch 98/200\n",
      "1211/1211 [==============================] - 0s 120us/sample - loss: 7.7735e-04 - accuracy: 1.0000 - val_loss: 0.0012 - val_accuracy: 1.0000\n",
      "Epoch 99/200\n",
      "1211/1211 [==============================] - 0s 121us/sample - loss: 7.6899e-04 - accuracy: 1.0000 - val_loss: 0.0012 - val_accuracy: 1.0000\n",
      "Epoch 100/200\n",
      "1211/1211 [==============================] - 0s 154us/sample - loss: 7.6150e-04 - accuracy: 1.0000 - val_loss: 0.0012 - val_accuracy: 1.0000\n",
      "Epoch 101/200\n",
      "1211/1211 [==============================] - 0s 123us/sample - loss: 7.5349e-04 - accuracy: 1.0000 - val_loss: 0.0012 - val_accuracy: 1.0000\n",
      "Epoch 102/200\n",
      "1211/1211 [==============================] - 0s 117us/sample - loss: 7.4617e-04 - accuracy: 1.0000 - val_loss: 0.0012 - val_accuracy: 1.0000\n",
      "Epoch 103/200\n",
      "1211/1211 [==============================] - 0s 155us/sample - loss: 7.3882e-04 - accuracy: 1.0000 - val_loss: 0.0011 - val_accuracy: 1.0000\n",
      "Epoch 104/200\n",
      "1211/1211 [==============================] - 0s 131us/sample - loss: 7.3134e-04 - accuracy: 1.0000 - val_loss: 0.0011 - val_accuracy: 1.0000\n",
      "Epoch 105/200\n",
      "1211/1211 [==============================] - 0s 136us/sample - loss: 7.2448e-04 - accuracy: 1.0000 - val_loss: 0.0011 - val_accuracy: 1.0000\n",
      "Epoch 106/200\n",
      "1211/1211 [==============================] - 0s 172us/sample - loss: 7.1755e-04 - accuracy: 1.0000 - val_loss: 0.0011 - val_accuracy: 1.0000\n",
      "Epoch 107/200\n",
      "1211/1211 [==============================] - 0s 159us/sample - loss: 7.1062e-04 - accuracy: 1.0000 - val_loss: 0.0011 - val_accuracy: 1.0000\n",
      "Epoch 108/200\n",
      "1211/1211 [==============================] - 0s 176us/sample - loss: 7.0402e-04 - accuracy: 1.0000 - val_loss: 0.0011 - val_accuracy: 1.0000\n"
     ]
    },
    {
     "name": "stdout",
     "output_type": "stream",
     "text": [
      "Epoch 109/200\n",
      "1211/1211 [==============================] - 0s 174us/sample - loss: 6.9731e-04 - accuracy: 1.0000 - val_loss: 0.0011 - val_accuracy: 1.0000\n",
      "Epoch 110/200\n",
      "1211/1211 [==============================] - 0s 147us/sample - loss: 6.9111e-04 - accuracy: 1.0000 - val_loss: 0.0011 - val_accuracy: 1.0000\n",
      "Epoch 111/200\n",
      "1211/1211 [==============================] - 0s 171us/sample - loss: 6.8452e-04 - accuracy: 1.0000 - val_loss: 0.0011 - val_accuracy: 1.0000\n",
      "Epoch 112/200\n",
      "1211/1211 [==============================] - 0s 136us/sample - loss: 6.7855e-04 - accuracy: 1.0000 - val_loss: 0.0011 - val_accuracy: 1.0000\n",
      "Epoch 113/200\n",
      "1211/1211 [==============================] - 0s 137us/sample - loss: 6.7208e-04 - accuracy: 1.0000 - val_loss: 0.0011 - val_accuracy: 1.0000\n",
      "Epoch 114/200\n",
      "1211/1211 [==============================] - 0s 189us/sample - loss: 6.6619e-04 - accuracy: 1.0000 - val_loss: 0.0011 - val_accuracy: 1.0000\n",
      "Epoch 115/200\n",
      "1211/1211 [==============================] - 0s 135us/sample - loss: 6.6031e-04 - accuracy: 1.0000 - val_loss: 0.0011 - val_accuracy: 1.0000\n",
      "Epoch 116/200\n",
      "1211/1211 [==============================] - 0s 140us/sample - loss: 6.5445e-04 - accuracy: 1.0000 - val_loss: 0.0010 - val_accuracy: 1.0000\n",
      "Epoch 117/200\n",
      "1211/1211 [==============================] - 0s 153us/sample - loss: 6.4873e-04 - accuracy: 1.0000 - val_loss: 0.0010 - val_accuracy: 1.0000\n",
      "Epoch 118/200\n",
      "1211/1211 [==============================] - 0s 122us/sample - loss: 6.4308e-04 - accuracy: 1.0000 - val_loss: 0.0010 - val_accuracy: 1.0000\n",
      "Epoch 119/200\n",
      "1211/1211 [==============================] - 0s 154us/sample - loss: 6.3772e-04 - accuracy: 1.0000 - val_loss: 0.0010 - val_accuracy: 1.0000\n",
      "Epoch 120/200\n",
      "1211/1211 [==============================] - 0s 119us/sample - loss: 6.3227e-04 - accuracy: 1.0000 - val_loss: 0.0010 - val_accuracy: 1.0000\n",
      "Epoch 121/200\n",
      "1211/1211 [==============================] - 0s 132us/sample - loss: 6.2687e-04 - accuracy: 1.0000 - val_loss: 0.0010 - val_accuracy: 1.0000\n",
      "Epoch 122/200\n",
      "1211/1211 [==============================] - 0s 132us/sample - loss: 6.2167e-04 - accuracy: 1.0000 - val_loss: 0.0010 - val_accuracy: 1.0000\n",
      "Epoch 123/200\n",
      "1211/1211 [==============================] - 0s 165us/sample - loss: 6.1641e-04 - accuracy: 1.0000 - val_loss: 0.0010 - val_accuracy: 1.0000\n",
      "Epoch 124/200\n",
      "1211/1211 [==============================] - 0s 127us/sample - loss: 6.1138e-04 - accuracy: 1.0000 - val_loss: 9.9612e-04 - val_accuracy: 1.0000\n",
      "Epoch 125/200\n",
      "1211/1211 [==============================] - 0s 155us/sample - loss: 6.0644e-04 - accuracy: 1.0000 - val_loss: 9.8922e-04 - val_accuracy: 1.0000\n",
      "Epoch 126/200\n",
      "1211/1211 [==============================] - 0s 138us/sample - loss: 6.0147e-04 - accuracy: 1.0000 - val_loss: 9.8251e-04 - val_accuracy: 1.0000\n",
      "Epoch 127/200\n",
      "1211/1211 [==============================] - 0s 136us/sample - loss: 5.9662e-04 - accuracy: 1.0000 - val_loss: 9.7812e-04 - val_accuracy: 1.0000\n",
      "Epoch 128/200\n",
      "1211/1211 [==============================] - 0s 122us/sample - loss: 5.9173e-04 - accuracy: 1.0000 - val_loss: 9.7292e-04 - val_accuracy: 1.0000\n",
      "Epoch 129/200\n",
      "1211/1211 [==============================] - 0s 194us/sample - loss: 5.8723e-04 - accuracy: 1.0000 - val_loss: 9.6882e-04 - val_accuracy: 1.0000\n",
      "Epoch 130/200\n",
      "1211/1211 [==============================] - 0s 144us/sample - loss: 5.8242e-04 - accuracy: 1.0000 - val_loss: 9.6179e-04 - val_accuracy: 1.0000\n",
      "Epoch 131/200\n",
      "1211/1211 [==============================] - 0s 185us/sample - loss: 5.7786e-04 - accuracy: 1.0000 - val_loss: 9.5586e-04 - val_accuracy: 1.0000\n",
      "Epoch 132/200\n",
      "1211/1211 [==============================] - 0s 143us/sample - loss: 5.7337e-04 - accuracy: 1.0000 - val_loss: 9.5008e-04 - val_accuracy: 1.0000\n",
      "Epoch 133/200\n",
      "1211/1211 [==============================] - 0s 125us/sample - loss: 5.6902e-04 - accuracy: 1.0000 - val_loss: 9.4470e-04 - val_accuracy: 1.0000\n",
      "Epoch 134/200\n",
      "1211/1211 [==============================] - 0s 173us/sample - loss: 5.6466e-04 - accuracy: 1.0000 - val_loss: 9.4033e-04 - val_accuracy: 1.0000\n",
      "Epoch 135/200\n",
      "1211/1211 [==============================] - 0s 149us/sample - loss: 5.6041e-04 - accuracy: 1.0000 - val_loss: 9.3494e-04 - val_accuracy: 1.0000\n",
      "Epoch 136/200\n",
      "1211/1211 [==============================] - 0s 172us/sample - loss: 5.5617e-04 - accuracy: 1.0000 - val_loss: 9.2929e-04 - val_accuracy: 1.0000\n",
      "Epoch 137/200\n",
      "1211/1211 [==============================] - 0s 153us/sample - loss: 5.5212e-04 - accuracy: 1.0000 - val_loss: 9.2424e-04 - val_accuracy: 1.0000\n",
      "Epoch 138/200\n",
      "1211/1211 [==============================] - 0s 122us/sample - loss: 5.4812e-04 - accuracy: 1.0000 - val_loss: 9.1965e-04 - val_accuracy: 1.0000\n",
      "Epoch 139/200\n",
      "1211/1211 [==============================] - 0s 123us/sample - loss: 5.4380e-04 - accuracy: 1.0000 - val_loss: 9.1538e-04 - val_accuracy: 1.0000\n",
      "Epoch 140/200\n",
      "1211/1211 [==============================] - 0s 162us/sample - loss: 5.3996e-04 - accuracy: 1.0000 - val_loss: 9.1108e-04 - val_accuracy: 1.0000\n",
      "Epoch 141/200\n",
      "1211/1211 [==============================] - 0s 135us/sample - loss: 5.3606e-04 - accuracy: 1.0000 - val_loss: 9.0537e-04 - val_accuracy: 1.0000\n",
      "Epoch 142/200\n",
      "1211/1211 [==============================] - 0s 150us/sample - loss: 5.3215e-04 - accuracy: 1.0000 - val_loss: 9.0092e-04 - val_accuracy: 1.0000\n",
      "Epoch 143/200\n",
      "1211/1211 [==============================] - 0s 143us/sample - loss: 5.2843e-04 - accuracy: 1.0000 - val_loss: 8.9557e-04 - val_accuracy: 1.0000\n",
      "Epoch 144/200\n",
      "1211/1211 [==============================] - 0s 122us/sample - loss: 5.2473e-04 - accuracy: 1.0000 - val_loss: 8.9308e-04 - val_accuracy: 1.0000\n",
      "Epoch 145/200\n",
      "1211/1211 [==============================] - 0s 133us/sample - loss: 5.2105e-04 - accuracy: 1.0000 - val_loss: 8.8702e-04 - val_accuracy: 1.0000\n",
      "Epoch 146/200\n",
      "1211/1211 [==============================] - 0s 144us/sample - loss: 5.1725e-04 - accuracy: 1.0000 - val_loss: 8.8279e-04 - val_accuracy: 1.0000\n",
      "Epoch 147/200\n",
      "1211/1211 [==============================] - 0s 123us/sample - loss: 5.1367e-04 - accuracy: 1.0000 - val_loss: 8.7809e-04 - val_accuracy: 1.0000\n",
      "Epoch 148/200\n",
      "1211/1211 [==============================] - 0s 160us/sample - loss: 5.1006e-04 - accuracy: 1.0000 - val_loss: 8.7429e-04 - val_accuracy: 1.0000\n",
      "Epoch 149/200\n",
      "1211/1211 [==============================] - 0s 133us/sample - loss: 5.0662e-04 - accuracy: 1.0000 - val_loss: 8.7038e-04 - val_accuracy: 1.0000\n",
      "Epoch 150/200\n",
      "1211/1211 [==============================] - 0s 133us/sample - loss: 5.0314e-04 - accuracy: 1.0000 - val_loss: 8.6543e-04 - val_accuracy: 1.0000\n",
      "Epoch 151/200\n",
      "1211/1211 [==============================] - 0s 123us/sample - loss: 4.9975e-04 - accuracy: 1.0000 - val_loss: 8.6082e-04 - val_accuracy: 1.0000\n",
      "Epoch 152/200\n",
      "1211/1211 [==============================] - 0s 152us/sample - loss: 4.9635e-04 - accuracy: 1.0000 - val_loss: 8.5782e-04 - val_accuracy: 1.0000\n",
      "Epoch 153/200\n",
      "1211/1211 [==============================] - 0s 125us/sample - loss: 4.9304e-04 - accuracy: 1.0000 - val_loss: 8.5325e-04 - val_accuracy: 1.0000\n",
      "Epoch 154/200\n",
      "1211/1211 [==============================] - 0s 153us/sample - loss: 4.8970e-04 - accuracy: 1.0000 - val_loss: 8.4934e-04 - val_accuracy: 1.0000\n",
      "Epoch 155/200\n",
      "1211/1211 [==============================] - 0s 128us/sample - loss: 4.8653e-04 - accuracy: 1.0000 - val_loss: 8.4496e-04 - val_accuracy: 1.0000\n",
      "Epoch 156/200\n",
      "1211/1211 [==============================] - 0s 129us/sample - loss: 4.8325e-04 - accuracy: 1.0000 - val_loss: 8.4131e-04 - val_accuracy: 1.0000\n",
      "Epoch 157/200\n",
      "1211/1211 [==============================] - 0s 130us/sample - loss: 4.8036e-04 - accuracy: 1.0000 - val_loss: 8.3668e-04 - val_accuracy: 1.0000\n",
      "Epoch 158/200\n",
      "1211/1211 [==============================] - 0s 149us/sample - loss: 4.7701e-04 - accuracy: 1.0000 - val_loss: 8.3363e-04 - val_accuracy: 1.0000\n",
      "Epoch 159/200\n",
      "1211/1211 [==============================] - 0s 124us/sample - loss: 4.7396e-04 - accuracy: 1.0000 - val_loss: 8.2988e-04 - val_accuracy: 1.0000\n",
      "Epoch 160/200\n",
      "1211/1211 [==============================] - 0s 199us/sample - loss: 4.7090e-04 - accuracy: 1.0000 - val_loss: 8.2544e-04 - val_accuracy: 1.0000\n"
     ]
    },
    {
     "name": "stdout",
     "output_type": "stream",
     "text": [
      "Epoch 161/200\n",
      "1211/1211 [==============================] - 0s 132us/sample - loss: 4.6789e-04 - accuracy: 1.0000 - val_loss: 8.2279e-04 - val_accuracy: 1.0000\n",
      "Epoch 162/200\n",
      "1211/1211 [==============================] - 0s 142us/sample - loss: 4.6493e-04 - accuracy: 1.0000 - val_loss: 8.1833e-04 - val_accuracy: 1.0000\n",
      "Epoch 163/200\n",
      "1211/1211 [==============================] - 0s 170us/sample - loss: 4.6207e-04 - accuracy: 1.0000 - val_loss: 8.1511e-04 - val_accuracy: 1.0000\n",
      "Epoch 164/200\n",
      "1211/1211 [==============================] - 0s 133us/sample - loss: 4.5907e-04 - accuracy: 1.0000 - val_loss: 8.1201e-04 - val_accuracy: 1.0000\n",
      "Epoch 165/200\n",
      "1211/1211 [==============================] - 0s 131us/sample - loss: 4.5620e-04 - accuracy: 1.0000 - val_loss: 8.0767e-04 - val_accuracy: 1.0000\n",
      "Epoch 166/200\n",
      "1211/1211 [==============================] - 0s 171us/sample - loss: 4.5343e-04 - accuracy: 1.0000 - val_loss: 8.0368e-04 - val_accuracy: 1.0000\n",
      "Epoch 167/200\n",
      "1211/1211 [==============================] - 0s 145us/sample - loss: 4.5060e-04 - accuracy: 1.0000 - val_loss: 8.0037e-04 - val_accuracy: 1.0000\n",
      "Epoch 168/200\n",
      "1211/1211 [==============================] - 0s 160us/sample - loss: 4.4785e-04 - accuracy: 1.0000 - val_loss: 7.9707e-04 - val_accuracy: 1.0000\n",
      "Epoch 169/200\n",
      "1211/1211 [==============================] - 0s 207us/sample - loss: 4.4515e-04 - accuracy: 1.0000 - val_loss: 7.9405e-04 - val_accuracy: 1.0000\n",
      "Epoch 170/200\n",
      "1211/1211 [==============================] - 0s 142us/sample - loss: 4.4241e-04 - accuracy: 1.0000 - val_loss: 7.9012e-04 - val_accuracy: 1.0000\n",
      "Epoch 171/200\n",
      "1211/1211 [==============================] - 0s 208us/sample - loss: 4.3979e-04 - accuracy: 1.0000 - val_loss: 7.8737e-04 - val_accuracy: 1.0000\n",
      "Epoch 172/200\n",
      "1211/1211 [==============================] - 0s 120us/sample - loss: 4.3716e-04 - accuracy: 1.0000 - val_loss: 7.8336e-04 - val_accuracy: 1.0000\n",
      "Epoch 173/200\n",
      "1211/1211 [==============================] - 0s 135us/sample - loss: 4.3459e-04 - accuracy: 1.0000 - val_loss: 7.8101e-04 - val_accuracy: 1.0000\n",
      "Epoch 174/200\n",
      "1211/1211 [==============================] - 0s 178us/sample - loss: 4.3207e-04 - accuracy: 1.0000 - val_loss: 7.7647e-04 - val_accuracy: 1.0000\n",
      "Epoch 175/200\n",
      "1211/1211 [==============================] - 0s 127us/sample - loss: 4.2943e-04 - accuracy: 1.0000 - val_loss: 7.7411e-04 - val_accuracy: 1.0000\n",
      "Epoch 176/200\n",
      "1211/1211 [==============================] - 0s 151us/sample - loss: 4.2695e-04 - accuracy: 1.0000 - val_loss: 7.7022e-04 - val_accuracy: 1.0000\n",
      "Epoch 177/200\n",
      "1211/1211 [==============================] - 0s 155us/sample - loss: 4.2447e-04 - accuracy: 1.0000 - val_loss: 7.6761e-04 - val_accuracy: 1.0000\n",
      "Epoch 178/200\n",
      "1211/1211 [==============================] - 0s 148us/sample - loss: 4.2198e-04 - accuracy: 1.0000 - val_loss: 7.6424e-04 - val_accuracy: 1.0000\n",
      "Epoch 179/200\n",
      "1211/1211 [==============================] - 0s 142us/sample - loss: 4.1957e-04 - accuracy: 1.0000 - val_loss: 7.6109e-04 - val_accuracy: 1.0000\n",
      "Epoch 180/200\n",
      "1211/1211 [==============================] - 0s 143us/sample - loss: 4.1715e-04 - accuracy: 1.0000 - val_loss: 7.5790e-04 - val_accuracy: 1.0000\n",
      "Epoch 181/200\n",
      "1211/1211 [==============================] - 0s 122us/sample - loss: 4.1485e-04 - accuracy: 1.0000 - val_loss: 7.5614e-04 - val_accuracy: 1.0000\n",
      "Epoch 182/200\n",
      "1211/1211 [==============================] - 0s 153us/sample - loss: 4.1244e-04 - accuracy: 1.0000 - val_loss: 7.5262e-04 - val_accuracy: 1.0000\n",
      "Epoch 183/200\n",
      "1211/1211 [==============================] - 0s 162us/sample - loss: 4.1013e-04 - accuracy: 1.0000 - val_loss: 7.4902e-04 - val_accuracy: 1.0000\n",
      "Epoch 184/200\n",
      "1211/1211 [==============================] - 0s 123us/sample - loss: 4.0780e-04 - accuracy: 1.0000 - val_loss: 7.4632e-04 - val_accuracy: 1.0000\n",
      "Epoch 185/200\n",
      "1211/1211 [==============================] - 0s 124us/sample - loss: 4.0544e-04 - accuracy: 1.0000 - val_loss: 7.4331e-04 - val_accuracy: 1.0000\n",
      "Epoch 186/200\n",
      "1211/1211 [==============================] - 0s 200us/sample - loss: 4.0324e-04 - accuracy: 1.0000 - val_loss: 7.4032e-04 - val_accuracy: 1.0000\n",
      "Epoch 187/200\n",
      "1211/1211 [==============================] - 0s 171us/sample - loss: 4.0100e-04 - accuracy: 1.0000 - val_loss: 7.3721e-04 - val_accuracy: 1.0000\n",
      "Epoch 188/200\n",
      "1211/1211 [==============================] - 0s 175us/sample - loss: 3.9885e-04 - accuracy: 1.0000 - val_loss: 7.3405e-04 - val_accuracy: 1.0000\n",
      "Epoch 189/200\n",
      "1211/1211 [==============================] - 0s 127us/sample - loss: 3.9662e-04 - accuracy: 1.0000 - val_loss: 7.3155e-04 - val_accuracy: 1.0000\n",
      "Epoch 190/200\n",
      "1211/1211 [==============================] - 0s 127us/sample - loss: 3.9448e-04 - accuracy: 1.0000 - val_loss: 7.2856e-04 - val_accuracy: 1.0000\n",
      "Epoch 191/200\n",
      "1211/1211 [==============================] - 0s 179us/sample - loss: 3.9235e-04 - accuracy: 1.0000 - val_loss: 7.2607e-04 - val_accuracy: 1.0000\n",
      "Epoch 192/200\n",
      "1211/1211 [==============================] - 0s 139us/sample - loss: 3.9029e-04 - accuracy: 1.0000 - val_loss: 7.2311e-04 - val_accuracy: 1.0000\n",
      "Epoch 193/200\n",
      "1211/1211 [==============================] - 0s 123us/sample - loss: 3.8815e-04 - accuracy: 1.0000 - val_loss: 7.2057e-04 - val_accuracy: 1.0000\n",
      "Epoch 194/200\n",
      "1211/1211 [==============================] - 0s 172us/sample - loss: 3.8607e-04 - accuracy: 1.0000 - val_loss: 7.1819e-04 - val_accuracy: 1.0000\n",
      "Epoch 195/200\n",
      "1211/1211 [==============================] - 0s 133us/sample - loss: 3.8403e-04 - accuracy: 1.0000 - val_loss: 7.1549e-04 - val_accuracy: 1.0000\n",
      "Epoch 196/200\n",
      "1211/1211 [==============================] - 0s 128us/sample - loss: 3.8203e-04 - accuracy: 1.0000 - val_loss: 7.1283e-04 - val_accuracy: 1.0000\n",
      "Epoch 197/200\n",
      "1211/1211 [==============================] - 0s 152us/sample - loss: 3.8005e-04 - accuracy: 1.0000 - val_loss: 7.1016e-04 - val_accuracy: 1.0000\n",
      "Epoch 198/200\n",
      "1211/1211 [==============================] - 0s 134us/sample - loss: 3.7806e-04 - accuracy: 1.0000 - val_loss: 7.0794e-04 - val_accuracy: 1.0000\n",
      "Epoch 199/200\n",
      "1211/1211 [==============================] - 0s 133us/sample - loss: 3.7612e-04 - accuracy: 1.0000 - val_loss: 7.0488e-04 - val_accuracy: 1.0000\n",
      "Epoch 200/200\n",
      "1211/1211 [==============================] - 0s 173us/sample - loss: 3.7415e-04 - accuracy: 1.0000 - val_loss: 7.0277e-04 - val_accuracy: 1.0000\n"
     ]
    }
   ],
   "source": [
    "# Train the model \n",
    "history = model.fit(samples, labels, epochs=200, validation_split=0.123)"
   ]
  },
  {
   "cell_type": "code",
   "execution_count": 25,
   "metadata": {},
   "outputs": [
    {
     "name": "stdout",
     "output_type": "stream",
     "text": [
      "Train on 1381 samples\n",
      "Epoch 1/5\n",
      "1381/1381 [==============================] - 0s 161us/sample - loss: 4.1259e-04 - accuracy: 1.0000\n",
      "Epoch 2/5\n",
      "1381/1381 [==============================] - 0s 183us/sample - loss: 4.0993e-04 - accuracy: 1.0000\n",
      "Epoch 3/5\n",
      "1381/1381 [==============================] - 0s 128us/sample - loss: 4.0705e-04 - accuracy: 1.0000\n",
      "Epoch 4/5\n",
      "1381/1381 [==============================] - 0s 119us/sample - loss: 4.0439e-04 - accuracy: 1.0000\n",
      "Epoch 5/5\n",
      "1381/1381 [==============================] - 0s 140us/sample - loss: 4.0171e-04 - accuracy: 1.0000\n"
     ]
    }
   ],
   "source": [
    "# a few iterations on all the data\n",
    "history = model.fit(samples, labels, epochs=5)"
   ]
  },
  {
   "cell_type": "markdown",
   "metadata": {},
   "source": [
    "## Test on a holdout sound "
   ]
  },
  {
   "cell_type": "code",
   "execution_count": 26,
   "metadata": {},
   "outputs": [],
   "source": [
    "def run_models(waveform, \n",
    "               yamnet_model, \n",
    "               top_model, \n",
    "               strip_silence=True, \n",
    "               min_samples=16000):\n",
    "    \n",
    "    if strip_silence:\n",
    "        waveform = remove_silence(waveform, top_db=10)\n",
    "    \n",
    "    if len(waveform) < min_samples:\n",
    "        print(\"input too short after silence removal\")\n",
    "        return None\n",
    "    \n",
    "    _, _, dense_out, _ = \\\n",
    "        yamnet_model.predict(np.reshape(waveform, [1, -1]), steps=1)\n",
    "    \n",
    "    # dense = (N, 1024)\n",
    "    all_scores = []\n",
    "    for patch in dense_out:\n",
    "        scores = model.predict( np.expand_dims(patch,0)).squeeze()\n",
    "        all_scores.append(scores)\n",
    "        \n",
    "    all_scores = np.mean(all_scores, axis=0)\n",
    "    return all_scores\n"
   ]
  },
  {
   "cell_type": "code",
   "execution_count": 27,
   "metadata": {},
   "outputs": [],
   "source": [
    "categories = [\"not train\", \"train\"]"
   ]
  },
  {
   "cell_type": "code",
   "execution_count": 28,
   "metadata": {},
   "outputs": [],
   "source": [
    "fname = \"holdout_train_sounds/train2.wav\"\n",
    "waveform = read_wav(fname, DESIRED_SR, use_rosa=1)\n",
    "\n",
    "#waveform = remove_silence(waveform, top_db=10)\n",
    "\n",
    "# make file a bit longer by duplicating it \n",
    "waveform = np.concatenate((waveform,waveform,waveform,waveform))"
   ]
  },
  {
   "cell_type": "code",
   "execution_count": 29,
   "metadata": {},
   "outputs": [
    {
     "data": {
      "text/plain": [
       "[<matplotlib.lines.Line2D at 0x1474e0310>]"
      ]
     },
     "execution_count": 29,
     "metadata": {},
     "output_type": "execute_result"
    },
    {
     "data": {
      "image/png": "[encoded data removed]",
      "text/plain": [
       "<Figure size 432x288 with 1 Axes>"
      ]
     },
     "metadata": {
      "needs_background": "light"
     },
     "output_type": "display_data"
    }
   ],
   "source": [
    "plot(waveform)"
   ]
  },
  {
   "cell_type": "code",
   "execution_count": 31,
   "metadata": {},
   "outputs": [
    {
     "name": "stdout",
     "output_type": "stream",
     "text": [
      " Best score: 0.9999927878379822  label: train\n"
     ]
    }
   ],
   "source": [
    "scores = run_models(waveform, yamnet_model, model)\n",
    "winner = categories[scores.argmax()]\n",
    "\n",
    "print(\" Best score: {}  label: {}\".format(scores.max(), winner))\n"
   ]
  },
  {
   "cell_type": "code",
   "execution_count": 32,
   "metadata": {},
   "outputs": [],
   "source": [
    "## Save the model for later\n",
    "model.save(\"top_model.h5\", include_optimizer=False)"
   ]
  },
  {
   "cell_type": "code",
   "execution_count": 33,
   "metadata": {},
   "outputs": [
    {
     "name": "stdout",
     "output_type": "stream",
     "text": [
      " --- Using input device:  0\n",
      "2020-02-04 16:51:51.503589: I tensorflow/core/platform/cpu_feature_guard.cc:142] Your CPU supports instructions that this TensorFlow binary was not compiled to use: AVX2 FMA\n",
      "2020-02-04 16:51:51.520644: I tensorflow/compiler/xla/service/service.cc:168] XLA service 0x7feccf326a80 executing computations on platform Host. Devices:\n",
      "2020-02-04 16:51:51.520666: I tensorflow/compiler/xla/service/service.cc:175]   StreamExecutor device (0): Host, Default Version\n",
      "{'index': 0, 'structVersion': 2, 'name': 'Built-in Microphone', 'hostApi': 0, 'maxInputChannels': 2, 'maxOutputChannels': 0, 'defaultLowInputLatency': 0.0029478458049886623, 'defaultLowOutputLatency': 0.01, 'defaultHighInputLatency': 0.01310657596371882, 'defaultHighOutputLatency': 0.1, 'defaultSampleRate': 44100.0}\n",
      "_______\n",
      "{'index': 1, 'structVersion': 2, 'name': 'Built-in Output', 'hostApi': 0, 'maxInputChannels': 0, 'maxOutputChannels': 2, 'defaultLowInputLatency': 0.01, 'defaultLowOutputLatency': 0.0038775510204081634, 'defaultHighInputLatency': 0.1, 'defaultHighOutputLatency': 0.014036281179138322, 'defaultSampleRate': 44100.0}\n",
      "_______\n",
      "{'index': 2, 'structVersion': 2, 'name': 'Loopback Audio', 'hostApi': 0, 'maxInputChannels': 2, 'maxOutputChannels': 2, 'defaultLowInputLatency': 0.01, 'defaultLowOutputLatency': 0.0029024943310657597, 'defaultHighInputLatency': 0.1, 'defaultHighOutputLatency': 0.013061224489795919, 'defaultSampleRate': 44100.0}\n",
      "_______\n",
      "  detection:  0.11122232\n",
      "  detection:  0.09169639\n",
      "  detection:  0.17503811\n",
      "  detection:  0.07429746\n",
      "  detection:  0.2512964\n",
      "  detection:  0.15695643\n",
      "  detection:  0.21487594\n",
      "  detection:  0.20207357\n",
      "  detection:  0.1761809\n",
      "  detection:  0.264893\n",
      "  detection:  0.1580045\n",
      "  detection:  0.123635896\n",
      "  detection:  0.06040231\n",
      "  detection:  0.20859669\n",
      "  detection:  0.34296516\n",
      "^C\n",
      " ____ interrupt ___\n"
     ]
    }
   ],
   "source": [
    "# NOTE: PyAudio required here \n",
    "# device index from pyaudio \n",
    "!python classify_from_mic.py 0"
   ]
  },
  {
   "cell_type": "code",
   "execution_count": null,
   "metadata": {},
   "outputs": [],
   "source": []
  }
 ],
 "metadata": {
  "kernelspec": {
   "display_name": "Python 3",
   "language": "python",
   "name": "python3"
  },
  "language_info": {
   "codemirror_mode": {
    "name": "ipython",
    "version": 3
   },
   "file_extension": ".py",
   "mimetype": "text/x-python",
   "name": "python",
   "nbconvert_exporter": "python",
   "pygments_lexer": "ipython3",
   "version": "3.7.5"
  }
 },
 "nbformat": 4,
 "nbformat_minor": 2
}
